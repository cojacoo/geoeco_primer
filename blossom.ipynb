{
 "cells": [
  {
   "cell_type": "markdown",
   "id": "c0367ae5-73e3-4729-aad1-231d24294397",
   "metadata": {},
   "source": [
    "## Cherry Blossom Data\n",
    "\n",
    "Aono et al. have collected a spectacular series of phenological data about the blossoming of *prunus jamasakura* in Kyoto, Japan.\n",
    "\n",
    "In this notebook we will analyse two questions:\n",
    " 1. Since when and how much did the blossoming timing change?\n",
    " 2. Is there any correlation to mean air temperature or other weather variables?\n",
    " \n",
    "(cc) conrad.jackisch@tbt.tu-freiberg.de"
   ]
  },
  {
   "cell_type": "code",
   "execution_count": 1,
   "id": "4f6d23ad-4af6-4eab-bb56-8864cde2956a",
   "metadata": {},
   "outputs": [
    {
     "name": "stdout",
     "output_type": "stream",
     "text": [
      "Populating the interactive namespace from numpy and matplotlib\n"
     ]
    }
   ],
   "source": [
    "#loading required libraries\n",
    "%pylab inline\n",
    "import pandas as pd\n",
    "\n",
    "#import static plot libraries\n",
    "import seaborn as sns\n",
    "sns.set_style('whitegrid', {'grid.linestyle': u'--'})\n",
    "matplotlib.rc('pdf', fonttype=42)\n",
    "\n",
    "#import interactive plot libraries\n",
    "import plotly.express as px\n",
    "import plotly.figure_factory as ff\n",
    "import plotly.io as pio\n",
    "pio.renderers.default='iframe' #for windows use 'notebook' instead\n",
    "import plotly.graph_objects as go"
   ]
  },
  {
   "cell_type": "markdown",
   "id": "a6439018-25fe-4c92-a342-c82f4ee27920",
   "metadata": {},
   "source": [
    "We have prepared the data from the original sources at the website http://atmenv.envi.osakafu-u.ac.jp/aono/kyophenotemp4/ and https://www.data.jma.go.jp/obd/stats/etrn/view/monthly_s3_en.php?block_no=47759&view=1 in one Excel file.\n",
    "\n",
    "Now, let's load the data and take a first look at it."
   ]
  },
  {
   "cell_type": "code",
   "execution_count": 2,
   "id": "858c9a73-5888-4ec4-85ea-e6b78228fb33",
   "metadata": {},
   "outputs": [
    {
     "name": "stderr",
     "output_type": "stream",
     "text": [
      "/Users/cojack/miniconda3/lib/python3.7/site-packages/openpyxl/worksheet/header_footer.py:48: UserWarning:\n",
      "\n",
      "Cannot parse header or footer so it will be ignored\n",
      "\n"
     ]
    }
   ],
   "source": [
    "flower = pd.read_excel('flowering_prunus_japan.xlsx',sheet_name='flowering_prunus',skiprows=25,index_col=0)\n",
    "MarchT = pd.read_excel('flowering_prunus_japan.xlsx',sheet_name='MarTemp_reconstructed',skiprows=16,index_col=0,na_values=-50.)\n",
    "\n",
    "KyotoPrec = pd.read_excel('flowering_prunus_japan.xlsx',sheet_name='Kyoto_Precip',index_col=0).iloc[:,:12]\n",
    "KyotoT = pd.read_excel('flowering_prunus_japan.xlsx',sheet_name='Kyoto_Temp',index_col=0).iloc[:,:12]\n",
    "KyotoSun = pd.read_excel('flowering_prunus_japan.xlsx',sheet_name='Kyoto_Sun',index_col=0).iloc[:,:12]"
   ]
  },
  {
   "cell_type": "code",
   "execution_count": 32,
   "id": "b1f7ea64-d97b-4e39-a576-512a5866909e",
   "metadata": {},
   "outputs": [
    {
     "data": {
      "text/html": [
       "<iframe\n",
       "    scrolling=\"no\"\n",
       "    width=\"100%\"\n",
       "    height=\"545px\"\n",
       "    src=\"iframe_figures/figure_32.html\"\n",
       "    frameborder=\"0\"\n",
       "    allowfullscreen\n",
       "></iframe>\n"
      ]
     },
     "metadata": {},
     "output_type": "display_data"
    }
   ],
   "source": [
    "fig = px.scatter(flower['Full-flowering date (DOY)'])\n",
    "#fig = px.scatter(flower['Full-flowering date (DOY)'],marginal_y='histogram')\n",
    "#fig = px.scatter(flower['Full-flowering date (DOY)'],trendline='lowess',trendline_color_override='coral')\n",
    "fig.update_layout({'template': 'none','title': 'Cherry Blossom Day of Year', 'xaxis_title': 'Year (AD)', 'yaxis_title': 'DOY'})\n",
    "#fig.write_image('cherry_ts.pdf', width=1500, height=400)"
   ]
  },
  {
   "cell_type": "code",
   "execution_count": 26,
   "id": "c6892d7d-9298-4c94-a9c5-e7a2c51676cb",
   "metadata": {},
   "outputs": [
    {
     "data": {
      "text/html": [
       "<iframe\n",
       "    scrolling=\"no\"\n",
       "    width=\"100%\"\n",
       "    height=\"545px\"\n",
       "    src=\"iframe_figures/figure_26.html\"\n",
       "    frameborder=\"0\"\n",
       "    allowfullscreen\n",
       "></iframe>\n"
      ]
     },
     "metadata": {},
     "output_type": "display_data"
    }
   ],
   "source": [
    "fig = px.histogram(flower['Full-flowering date (DOY)'],template='none')\n",
    "fig.update_layout({'template': 'none','title': 'Cherry Blossom Day of Year', 'yaxis_title': 'Anzahl im Datensatz', 'xaxis_title': 'Tag des Jahres (DOY)'})\n",
    "#fig.write_image('cherry_hist.pdf', width=500, height=400)"
   ]
  },
  {
   "cell_type": "code",
   "execution_count": 37,
   "id": "09fa4beb-69bf-48b4-89bb-46f2a4a657db",
   "metadata": {},
   "outputs": [
    {
     "data": {
      "text/plain": [
       "count    827.000000\n",
       "mean     104.540508\n",
       "std        6.407036\n",
       "min       86.000000\n",
       "25%      100.000000\n",
       "50%      105.000000\n",
       "75%      109.000000\n",
       "max      124.000000\n",
       "Name: Full-flowering date (DOY), dtype: float64"
      ]
     },
     "execution_count": 37,
     "metadata": {},
     "output_type": "execute_result"
    }
   ],
   "source": [
    "flower['Full-flowering date (DOY)'].describe()\n",
    "#flower.info()"
   ]
  },
  {
   "cell_type": "code",
   "execution_count": 5,
   "id": "a407d69b-86eb-46d9-a96e-8f1c4afdd6dc",
   "metadata": {},
   "outputs": [
    {
     "data": {
      "text/html": [
       "<iframe\n",
       "    scrolling=\"no\"\n",
       "    width=\"100%\"\n",
       "    height=\"545px\"\n",
       "    src=\"iframe_figures/figure_5.html\"\n",
       "    frameborder=\"0\"\n",
       "    allowfullscreen\n",
       "></iframe>\n"
      ]
     },
     "metadata": {},
     "output_type": "display_data"
    }
   ],
   "source": [
    "fig = px.scatter(MarchT['Estimated temperature'])\n",
    "#fig = px.scatter(MarchT['Estimated temperature'],trendline='lowess',trendline_color_override='coral')\n",
    "fig.update_layout({'template': 'none','title': 'Air Temperature in March, Kyoto', 'xaxis_title': 'Year (AD)', 'yaxis_title': 'Temp (°C)'})\n"
   ]
  },
  {
   "cell_type": "markdown",
   "id": "b7ab2e06-492c-4e7c-9953-00bd6e0f7f96",
   "metadata": {},
   "source": [
    "Let us build a joint DataFrame with all the data we have. Index will be the year. The columns hold the different summarised data."
   ]
  },
  {
   "cell_type": "code",
   "execution_count": 6,
   "id": "9f86f4b6-4a36-4db3-aea6-c75c7ce18f0c",
   "metadata": {},
   "outputs": [
    {
     "data": {
      "text/html": [
       "<div>\n",
       "<style scoped>\n",
       "    .dataframe tbody tr th:only-of-type {\n",
       "        vertical-align: middle;\n",
       "    }\n",
       "\n",
       "    .dataframe tbody tr th {\n",
       "        vertical-align: top;\n",
       "    }\n",
       "\n",
       "    .dataframe thead th {\n",
       "        text-align: right;\n",
       "    }\n",
       "</style>\n",
       "<table border=\"1\" class=\"dataframe\">\n",
       "  <thead>\n",
       "    <tr style=\"text-align: right;\">\n",
       "      <th></th>\n",
       "      <th>FlowerDOY</th>\n",
       "      <th>MarchT</th>\n",
       "      <th>JanMarchT</th>\n",
       "      <th>JanMarchSun</th>\n",
       "      <th>JanMarchP</th>\n",
       "      <th>Decade</th>\n",
       "      <th>Dec25</th>\n",
       "      <th>expTime</th>\n",
       "    </tr>\n",
       "  </thead>\n",
       "  <tbody>\n",
       "    <tr>\n",
       "      <th>801</th>\n",
       "      <td>NaN</td>\n",
       "      <td>NaN</td>\n",
       "      <td>NaN</td>\n",
       "      <td>NaN</td>\n",
       "      <td>NaN</td>\n",
       "      <td>800</td>\n",
       "      <td>800</td>\n",
       "      <td>4.962948</td>\n",
       "    </tr>\n",
       "    <tr>\n",
       "      <th>802</th>\n",
       "      <td>NaN</td>\n",
       "      <td>NaN</td>\n",
       "      <td>NaN</td>\n",
       "      <td>NaN</td>\n",
       "      <td>NaN</td>\n",
       "      <td>800</td>\n",
       "      <td>800</td>\n",
       "      <td>4.972884</td>\n",
       "    </tr>\n",
       "    <tr>\n",
       "      <th>803</th>\n",
       "      <td>NaN</td>\n",
       "      <td>NaN</td>\n",
       "      <td>NaN</td>\n",
       "      <td>NaN</td>\n",
       "      <td>NaN</td>\n",
       "      <td>800</td>\n",
       "      <td>800</td>\n",
       "      <td>4.982840</td>\n",
       "    </tr>\n",
       "    <tr>\n",
       "      <th>804</th>\n",
       "      <td>NaN</td>\n",
       "      <td>NaN</td>\n",
       "      <td>NaN</td>\n",
       "      <td>NaN</td>\n",
       "      <td>NaN</td>\n",
       "      <td>800</td>\n",
       "      <td>800</td>\n",
       "      <td>4.992816</td>\n",
       "    </tr>\n",
       "    <tr>\n",
       "      <th>805</th>\n",
       "      <td>NaN</td>\n",
       "      <td>NaN</td>\n",
       "      <td>NaN</td>\n",
       "      <td>NaN</td>\n",
       "      <td>NaN</td>\n",
       "      <td>800</td>\n",
       "      <td>800</td>\n",
       "      <td>5.002811</td>\n",
       "    </tr>\n",
       "  </tbody>\n",
       "</table>\n",
       "</div>"
      ],
      "text/plain": [
       "     FlowerDOY  MarchT  JanMarchT  JanMarchSun  JanMarchP  Decade  Dec25  \\\n",
       "801        NaN     NaN        NaN          NaN        NaN     800    800   \n",
       "802        NaN     NaN        NaN          NaN        NaN     800    800   \n",
       "803        NaN     NaN        NaN          NaN        NaN     800    800   \n",
       "804        NaN     NaN        NaN          NaN        NaN     800    800   \n",
       "805        NaN     NaN        NaN          NaN        NaN     800    800   \n",
       "\n",
       "      expTime  \n",
       "801  4.962948  \n",
       "802  4.972884  \n",
       "803  4.982840  \n",
       "804  4.992816  \n",
       "805  5.002811  "
      ]
     },
     "execution_count": 6,
     "metadata": {},
     "output_type": "execute_result"
    }
   ],
   "source": [
    "# build joint DataFrame\n",
    "kyoto = pd.concat([flower['Full-flowering date (DOY)'],MarchT['Estimated temperature'],KyotoT.iloc[:,:3].mean(axis=1),KyotoSun.iloc[:,:3].sum(axis=1),KyotoPrec.iloc[:,:3].sum(axis=1)],axis=1)\n",
    "kyoto.columns = ['FlowerDOY','MarchT','JanMarchT','JanMarchSun','JanMarchP']\n",
    "\n",
    "#create new columns for decades\n",
    "kyoto['Decade'] = np.round(kyoto.index.values,-1)\n",
    "kyoto['Dec25'] = (np.round(kyoto.index.values/2.5,-1)*2.5).astype(int)\n",
    "kyoto['expTime'] = np.exp(kyoto.index.values/500.)\n",
    "\n",
    "kyoto.head()"
   ]
  },
  {
   "cell_type": "code",
   "execution_count": 7,
   "id": "1f782dd9-498b-4a7b-b43c-b50500efe598",
   "metadata": {},
   "outputs": [
    {
     "data": {
      "text/html": [
       "<iframe\n",
       "    scrolling=\"no\"\n",
       "    width=\"100%\"\n",
       "    height=\"545px\"\n",
       "    src=\"iframe_figures/figure_7.html\"\n",
       "    frameborder=\"0\"\n",
       "    allowfullscreen\n",
       "></iframe>\n"
      ]
     },
     "metadata": {},
     "output_type": "display_data"
    }
   ],
   "source": [
    "fig = px.box(kyoto.loc[(kyoto.Decade>1600) & (kyoto.Decade<2020)], x=\"Decade\", y=\"FlowerDOY\")\n",
    "fig.update_layout({'template': 'none','title': 'Cherry Blossom Data'})"
   ]
  },
  {
   "cell_type": "markdown",
   "id": "797c843a-d94f-428f-9c95-df731aab090b",
   "metadata": {},
   "source": [
    "----\n",
    "Actually, until here you have already everything you need. In the following comes some extra material.\n",
    "----\n"
   ]
  },
  {
   "cell_type": "code",
   "execution_count": 8,
   "id": "b0adc22d-2437-4999-bf8e-bf8702ea1f18",
   "metadata": {},
   "outputs": [
    {
     "data": {
      "text/html": [
       "<iframe\n",
       "    scrolling=\"no\"\n",
       "    width=\"100%\"\n",
       "    height=\"545px\"\n",
       "    src=\"iframe_figures/figure_8.html\"\n",
       "    frameborder=\"0\"\n",
       "    allowfullscreen\n",
       "></iframe>\n"
      ]
     },
     "metadata": {},
     "output_type": "display_data"
    }
   ],
   "source": [
    "fig = ff.create_distplot([kyoto.loc[:1850,'FlowerDOY'].dropna().values, kyoto.loc[1850:1900,'FlowerDOY'].dropna().values, kyoto.loc[1900:1950,'FlowerDOY'].dropna().values, kyoto.loc[1950:1990,'FlowerDOY'].dropna().values,kyoto.loc[1990:2020,'FlowerDOY'].dropna().values],['until 1850','1850..1900','1900..50','1950..90','1990..2020'],bin_size=2)\n",
    "fig.update_layout({'template': 'none','title': 'Cherry Blossom Data', 'xaxis_title': 'Day of Year (DOY)'})"
   ]
  },
  {
   "cell_type": "code",
   "execution_count": 9,
   "id": "a2892341-2869-48ff-b9cd-63aa81900b81",
   "metadata": {},
   "outputs": [
    {
     "data": {
      "text/html": [
       "<iframe\n",
       "    scrolling=\"no\"\n",
       "    width=\"100%\"\n",
       "    height=\"545px\"\n",
       "    src=\"iframe_figures/figure_9.html\"\n",
       "    frameborder=\"0\"\n",
       "    allowfullscreen\n",
       "></iframe>\n"
      ]
     },
     "metadata": {},
     "output_type": "display_data"
    }
   ],
   "source": [
    "ky = 'MarchT'\n",
    "fig = ff.create_distplot([kyoto.loc[:1850,ky].dropna().values, kyoto.loc[1850:1900,ky].dropna().values, kyoto.loc[1900:1950,ky].dropna().values, kyoto.loc[1950:1990,ky].dropna().values,kyoto.loc[1990:2020,ky].dropna().values],['until 1850','1850..1900','1900..50','1950..90','1990..2020'],bin_size=0.1)\n",
    "fig.update_layout({'template': 'none','title': 'Cherry Blossom Data', 'xaxis_title': 'March Temp (°C)'})"
   ]
  },
  {
   "cell_type": "code",
   "execution_count": 10,
   "id": "bfe57755-bfa2-4bd9-a0ed-3dcfbf3b731e",
   "metadata": {},
   "outputs": [
    {
     "data": {
      "text/html": [
       "<iframe\n",
       "    scrolling=\"no\"\n",
       "    width=\"820px\"\n",
       "    height=\"820\"\n",
       "    src=\"iframe_figures/figure_10.html\"\n",
       "    frameborder=\"0\"\n",
       "    allowfullscreen\n",
       "></iframe>\n"
      ]
     },
     "metadata": {},
     "output_type": "display_data"
    }
   ],
   "source": [
    "fig = ff.create_scatterplotmatrix(kyoto, diag='histogram', index='MarchT', colormap='Picnic', height=800, width=800)\n",
    "fig.update_layout({'template': 'none','title': 'Cherry Blossom Data'})"
   ]
  },
  {
   "cell_type": "code",
   "execution_count": 11,
   "id": "57474b6b-5328-4382-89b0-6ad10a353b50",
   "metadata": {},
   "outputs": [
    {
     "data": {
      "text/html": [
       "<iframe\n",
       "    scrolling=\"no\"\n",
       "    width=\"820px\"\n",
       "    height=\"820\"\n",
       "    src=\"iframe_figures/figure_11.html\"\n",
       "    frameborder=\"0\"\n",
       "    allowfullscreen\n",
       "></iframe>\n"
      ]
     },
     "metadata": {},
     "output_type": "display_data"
    }
   ],
   "source": [
    "fig = ff.create_scatterplotmatrix(kyoto, diag='histogram', index='expTime', colormap='YlOrRd', height=800, width=800)\n",
    "fig.update_layout({'template': 'none','title': 'Cherry Blossom Data'})"
   ]
  },
  {
   "cell_type": "code",
   "execution_count": 12,
   "id": "c47f7c5a-09bb-4738-a300-591f828cdecf",
   "metadata": {},
   "outputs": [
    {
     "data": {
      "text/html": [
       "<iframe\n",
       "    scrolling=\"no\"\n",
       "    width=\"100%\"\n",
       "    height=\"545px\"\n",
       "    src=\"iframe_figures/figure_12.html\"\n",
       "    frameborder=\"0\"\n",
       "    allowfullscreen\n",
       "></iframe>\n"
      ]
     },
     "metadata": {},
     "output_type": "display_data"
    }
   ],
   "source": [
    "fig = px.scatter(x=kyoto['JanMarchT'].values,y=kyoto['FlowerDOY'].values,trendline='ols',trendline_color_override='coral')\n",
    "fig.update_layout({'template': 'none','title': 'Cherry Blossom Day of Year', 'xaxis_title': 'Mean Temp Jan..March (°C)', 'yaxis_title': 'DOY'})"
   ]
  },
  {
   "cell_type": "markdown",
   "id": "96d0615b-39d7-41e1-ac23-ca5ad1b3f9a6",
   "metadata": {},
   "source": [
    "More fancy plots..."
   ]
  },
  {
   "cell_type": "code",
   "execution_count": 13,
   "id": "e90fdeb1-2ced-4603-93f3-4cfb66178c7b",
   "metadata": {},
   "outputs": [
    {
     "data": {
      "text/plain": [
       "<matplotlib.axes._subplots.AxesSubplot at 0x7fb918cb7208>"
      ]
     },
     "execution_count": 13,
     "metadata": {},
     "output_type": "execute_result"
    },
    {
     "data": {
      "image/png": "[encoded data removed]",
      "text/plain": [
       "<Figure size 432x288 with 1 Axes>"
      ]
     },
     "metadata": {},
     "output_type": "display_data"
    }
   ],
   "source": [
    "sns.regplot(x=kyoto['JanMarchT'].values,y=kyoto['FlowerDOY'].values)"
   ]
  },
  {
   "cell_type": "code",
   "execution_count": 14,
   "id": "930d3d92-b0d1-4f9a-8fc1-51706c4f3e92",
   "metadata": {},
   "outputs": [],
   "source": [
    "#from https://stackoverflow.com/questions/67505252/plotly-box-p-value-significant-annotation:\n",
    "def add_p_value_annotation(fig, array_columns, offset=0, offscale=1, subplot=None, _format=dict(interline=0.07, text_height=1.07, color='black')):\n",
    "    from scipy import stats\n",
    "    ''' Adds notations giving the p-value between two box plot data (t-test two-sided comparison)\n",
    "    \n",
    "    Parameters:\n",
    "    ----------\n",
    "    fig: figure\n",
    "        plotly boxplot figure\n",
    "    array_columns: np.array\n",
    "        array of which columns to compare \n",
    "        e.g.: [[0,1], [1,2]] compares column 0 with 1 and 1 with 2\n",
    "    subplot: None or int\n",
    "        specifies if the figures has subplots and what subplot to add the notation to\n",
    "    _format: dict\n",
    "        format characteristics for the lines\n",
    "\n",
    "    Returns:\n",
    "    -------\n",
    "    fig: figure\n",
    "        figure with the added notation\n",
    "    '''\n",
    "    # Specify in what y_range to plot for each pair of columns\n",
    "    y_range = np.zeros([len(array_columns), 2])\n",
    "    for i in range(len(array_columns)):\n",
    "        y_range[i] = [1.01+i*_format['interline'], 1.02+i*_format['interline']]\n",
    "\n",
    "    # Get values from figure\n",
    "    fig_dict = fig.to_dict()\n",
    "\n",
    "    # Get indices if working with subplots\n",
    "    if subplot:\n",
    "        if subplot == 1:\n",
    "            subplot_str = ''\n",
    "        else:\n",
    "            subplot_str =str(subplot)\n",
    "        indices = [] #Change the box index to the indices of the data for that subplot\n",
    "        for index, data in enumerate(fig_dict['data']):\n",
    "            #print(index, data['xaxis'], 'x' + subplot_str)\n",
    "            if data['xaxis'] == 'x' + subplot_str:\n",
    "                indices = np.append(indices, index)\n",
    "        indices = [int(i) for i in indices]\n",
    "        print((indices))\n",
    "    else:\n",
    "        subplot_str = ''\n",
    "\n",
    "    # Print the p-values\n",
    "    for index, column_pair in enumerate(array_columns):\n",
    "        if subplot:\n",
    "            data_pair = [indices[column_pair[0]], indices[column_pair[1]]]\n",
    "        else:\n",
    "            data_pair = column_pair\n",
    "\n",
    "        # Mare sure it is selecting the data and subplot you want\n",
    "        #print('0:', fig_dict['data'][data_pair[0]]['name'], fig_dict['data'][data_pair[0]]['xaxis'])\n",
    "        #print('1:', fig_dict['data'][data_pair[1]]['name'], fig_dict['data'][data_pair[1]]['xaxis'])\n",
    "\n",
    "        # Get the p-value\n",
    "        pvalue = stats.ttest_ind(\n",
    "            fig_dict['data'][data_pair[0]]['y'],\n",
    "            fig_dict['data'][data_pair[1]]['y'],\n",
    "            equal_var=False,\n",
    "        )[1]\n",
    "        if pvalue >= 0.05:\n",
    "            symbol = 'ns'\n",
    "        elif pvalue >= 0.01: \n",
    "            symbol = '*'\n",
    "        elif pvalue >= 0.001:\n",
    "            symbol = '**'\n",
    "        else:\n",
    "            symbol = '***'\n",
    "        # Vertical line\n",
    "        fig.add_shape(type=\"line\",\n",
    "            xref=\"x\"+subplot_str, yref=\"y\"+subplot_str+\" domain\",\n",
    "            x0=column_pair[0]*offscale+offset, y0=y_range[index][0], \n",
    "            x1=column_pair[0]*offscale+offset, y1=y_range[index][1],\n",
    "            line=dict(color=_format['color'], width=2,)\n",
    "        )\n",
    "        # Horizontal line\n",
    "        fig.add_shape(type=\"line\",\n",
    "            xref=\"x\"+subplot_str, yref=\"y\"+subplot_str+\" domain\",\n",
    "            x0=column_pair[0]*offscale+offset, y0=y_range[index][1], \n",
    "            x1=column_pair[1]*offscale+offset, y1=y_range[index][1],\n",
    "            line=dict(color=_format['color'], width=2,)\n",
    "        )\n",
    "        # Vertical line\n",
    "        fig.add_shape(type=\"line\",\n",
    "            xref=\"x\"+subplot_str, yref=\"y\"+subplot_str+\" domain\",\n",
    "            x0=column_pair[1]*offscale+offset, y0=y_range[index][0], \n",
    "            x1=column_pair[1]*offscale+offset, y1=y_range[index][1],\n",
    "            line=dict(color=_format['color'], width=2,)\n",
    "        )\n",
    "        ## add text at the correct x, y coordinates\n",
    "        ## for bars, there is a direct mapping from the bar number to 0, 1, 2...\n",
    "        fig.add_annotation(dict(font=dict(color=_format['color'],size=14),\n",
    "            x=(column_pair[0]*offscale+offset + column_pair[1]*offscale+offset)/2,\n",
    "            y=y_range[index][1]*_format['text_height'],\n",
    "            showarrow=False,\n",
    "            text=symbol,\n",
    "            textangle=0,\n",
    "            xref=\"x\"+subplot_str,\n",
    "            yref=\"y\"+subplot_str+\" domain\"\n",
    "        ))\n",
    "    return fig"
   ]
  },
  {
   "cell_type": "code",
   "execution_count": 15,
   "id": "64757a99-e25e-4b01-a434-3a0f63962996",
   "metadata": {},
   "outputs": [
    {
     "data": {
      "text/html": [
       "<iframe\n",
       "    scrolling=\"no\"\n",
       "    width=\"100%\"\n",
       "    height=\"545px\"\n",
       "    src=\"iframe_figures/figure_15.html\"\n",
       "    frameborder=\"0\"\n",
       "    allowfullscreen\n",
       "></iframe>\n"
      ]
     },
     "metadata": {},
     "output_type": "display_data"
    }
   ],
   "source": [
    "data = kyoto.loc[(kyoto.Decade>1800) & (kyoto.Decade<2020)]\n",
    "fig = go.Figure()\n",
    "for decade in data.Dec25.unique():\n",
    "    fig.add_trace(go.Box(\n",
    "        y=data[data['Dec25'] == decade].FlowerDOY,\n",
    "        name=str(decade),\n",
    "        boxpoints='outliers'\n",
    "    ))\n",
    "fig = add_p_value_annotation(fig, [[0,2], [2,4], [4,6],[6,8]], 1800, 25)\n",
    "fig.update_layout({'template': 'none'})\n",
    "\n"
   ]
  },
  {
   "cell_type": "code",
   "execution_count": null,
   "id": "f653fb8f-1e52-4b2d-afa2-9751c5aa42fc",
   "metadata": {},
   "outputs": [],
   "source": []
  }
 ],
 "metadata": {
  "kernelspec": {
   "display_name": "Python 3",
   "language": "python",
   "name": "python3"
  },
  "language_info": {
   "codemirror_mode": {
    "name": "ipython",
    "version": 3
   },
   "file_extension": ".py",
   "mimetype": "text/x-python",
   "name": "python",
   "nbconvert_exporter": "python",
   "pygments_lexer": "ipython3",
   "version": "3.7.2"
  }
 },
 "nbformat": 4,
 "nbformat_minor": 5
}
